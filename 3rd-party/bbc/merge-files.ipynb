{
 "cells": [
  {
   "cell_type": "code",
   "execution_count": 1,
   "id": "141e5026",
   "metadata": {},
   "outputs": [],
   "source": [
    "import os\n",
    "import numpy as np\n",
    "import pandas as pd"
   ]
  },
  {
   "cell_type": "code",
   "execution_count": 4,
   "id": "3863b292",
   "metadata": {},
   "outputs": [],
   "source": [
    "def copy_to(fname, tf):\n",
    "    with open(fname) as f:\n",
    "        lines = f.readlines()\n",
    "        for s in lines:\n",
    "            tf.write(s)\n",
    "        tf.write(\"\\n\")\n",
    "\n",
    "\n",
    "to = open('all.txt','w')\n",
    "\n",
    "folder = 'tech'\n",
    "\n",
    "for filename in os.listdir(folder):\n",
    "    if filename.endswith(\".txt\"):\n",
    "        name = folder + \"/\" + filename\n",
    "        copy_to(name, to)\n",
    "    else:\n",
    "        continue\n"
   ]
  },
  {
   "cell_type": "code",
   "execution_count": null,
   "id": "6a5647e6",
   "metadata": {},
   "outputs": [],
   "source": []
  }
 ],
 "metadata": {
  "kernelspec": {
   "display_name": "Python 3 (ipykernel)",
   "language": "python",
   "name": "python3"
  },
  "language_info": {
   "codemirror_mode": {
    "name": "ipython",
    "version": 3
   },
   "file_extension": ".py",
   "mimetype": "text/x-python",
   "name": "python",
   "nbconvert_exporter": "python",
   "pygments_lexer": "ipython3",
   "version": "3.9.7"
  }
 },
 "nbformat": 4,
 "nbformat_minor": 5
}
