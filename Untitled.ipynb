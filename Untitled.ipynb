{
 "cells": [
  {
   "cell_type": "code",
   "execution_count": 51,
   "id": "977c1a5d",
   "metadata": {},
   "outputs": [],
   "source": [
    "import pandas as pd\n",
    "import numpy as np\n",
    "import os\n",
    "import matplotlib.pyplot as plt"
   ]
  },
  {
   "cell_type": "code",
   "execution_count": 12,
   "id": "7e1ed54b",
   "metadata": {},
   "outputs": [],
   "source": [
    "def get_data(folder):\n",
    "    data = {}\n",
    "    for filename in os.listdir(folder):\n",
    "        if filename.endswith(\".csv\") and ('progress-' in filename):\n",
    "            df = pd.read_csv(folder + \"/\" + filename, header=None)\n",
    "            data[os.path.splitext(filename)[0]] = df\n",
    "            continue\n",
    "        else:\n",
    "            continue\n",
    "    return data"
   ]
  },
  {
   "cell_type": "code",
   "execution_count": 13,
   "id": "fc56fc5b",
   "metadata": {},
   "outputs": [],
   "source": [
    "DATA_DIR = '3rd-party/recurrent-neural-net/data'\n",
    "dt = get_data(DATA_DIR)"
   ]
  },
  {
   "cell_type": "code",
   "execution_count": 62,
   "id": "ac0789f0",
   "metadata": {},
   "outputs": [
    {
     "data": {
      "text/html": [
       "<div>\n",
       "<style scoped>\n",
       "    .dataframe tbody tr th:only-of-type {\n",
       "        vertical-align: middle;\n",
       "    }\n",
       "\n",
       "    .dataframe tbody tr th {\n",
       "        vertical-align: top;\n",
       "    }\n",
       "\n",
       "    .dataframe thead th {\n",
       "        text-align: right;\n",
       "    }\n",
       "</style>\n",
       "<table border=\"1\" class=\"dataframe\">\n",
       "  <thead>\n",
       "    <tr style=\"text-align: right;\">\n",
       "      <th></th>\n",
       "      <th>0</th>\n",
       "      <th>1</th>\n",
       "      <th>2</th>\n",
       "      <th>3</th>\n",
       "      <th>4</th>\n",
       "    </tr>\n",
       "  </thead>\n",
       "  <tbody>\n",
       "    <tr>\n",
       "      <th>0</th>\n",
       "      <td>tanf-tanD</td>\n",
       "      <td>0</td>\n",
       "      <td>4.408719</td>\n",
       "      <td>0.037224</td>\n",
       "      <td>0.011195</td>\n",
       "    </tr>\n",
       "    <tr>\n",
       "      <th>1</th>\n",
       "      <td>tanf-tanD</td>\n",
       "      <td>1000</td>\n",
       "      <td>2.610030</td>\n",
       "      <td>12.827537</td>\n",
       "      <td>11.469511</td>\n",
       "    </tr>\n",
       "    <tr>\n",
       "      <th>2</th>\n",
       "      <td>tanf-tanD</td>\n",
       "      <td>2000</td>\n",
       "      <td>2.458768</td>\n",
       "      <td>25.641451</td>\n",
       "      <td>22.949645</td>\n",
       "    </tr>\n",
       "    <tr>\n",
       "      <th>3</th>\n",
       "      <td>tanf-tanD</td>\n",
       "      <td>3000</td>\n",
       "      <td>2.342544</td>\n",
       "      <td>38.467224</td>\n",
       "      <td>34.451757</td>\n",
       "    </tr>\n",
       "    <tr>\n",
       "      <th>4</th>\n",
       "      <td>tanf-tanD</td>\n",
       "      <td>4000</td>\n",
       "      <td>2.218452</td>\n",
       "      <td>51.296388</td>\n",
       "      <td>45.961532</td>\n",
       "    </tr>\n",
       "    <tr>\n",
       "      <th>...</th>\n",
       "      <td>...</td>\n",
       "      <td>...</td>\n",
       "      <td>...</td>\n",
       "      <td>...</td>\n",
       "      <td>...</td>\n",
       "    </tr>\n",
       "    <tr>\n",
       "      <th>454</th>\n",
       "      <td>tanf-tanD</td>\n",
       "      <td>454000</td>\n",
       "      <td>1.303326</td>\n",
       "      <td>5689.662207</td>\n",
       "      <td>4979.310137</td>\n",
       "    </tr>\n",
       "    <tr>\n",
       "      <th>455</th>\n",
       "      <td>tanf-tanD</td>\n",
       "      <td>455000</td>\n",
       "      <td>1.326417</td>\n",
       "      <td>5702.189827</td>\n",
       "      <td>4990.226651</td>\n",
       "    </tr>\n",
       "    <tr>\n",
       "      <th>456</th>\n",
       "      <td>tanf-tanD</td>\n",
       "      <td>456000</td>\n",
       "      <td>1.297933</td>\n",
       "      <td>5714.720252</td>\n",
       "      <td>5001.152767</td>\n",
       "    </tr>\n",
       "    <tr>\n",
       "      <th>457</th>\n",
       "      <td>tanf-tanD</td>\n",
       "      <td>457000</td>\n",
       "      <td>1.321527</td>\n",
       "      <td>5727.381304</td>\n",
       "      <td>5012.213186</td>\n",
       "    </tr>\n",
       "    <tr>\n",
       "      <th>458</th>\n",
       "      <td>tanf-tanD</td>\n",
       "      <td>458000</td>\n",
       "      <td>1.301374</td>\n",
       "      <td>5739.947456</td>\n",
       "      <td>5023.170582</td>\n",
       "    </tr>\n",
       "  </tbody>\n",
       "</table>\n",
       "<p>459 rows × 5 columns</p>\n",
       "</div>"
      ],
      "text/plain": [
       "             0       1         2            3            4\n",
       "0    tanf-tanD       0  4.408719     0.037224     0.011195\n",
       "1    tanf-tanD    1000  2.610030    12.827537    11.469511\n",
       "2    tanf-tanD    2000  2.458768    25.641451    22.949645\n",
       "3    tanf-tanD    3000  2.342544    38.467224    34.451757\n",
       "4    tanf-tanD    4000  2.218452    51.296388    45.961532\n",
       "..         ...     ...       ...          ...          ...\n",
       "454  tanf-tanD  454000  1.303326  5689.662207  4979.310137\n",
       "455  tanf-tanD  455000  1.326417  5702.189827  4990.226651\n",
       "456  tanf-tanD  456000  1.297933  5714.720252  5001.152767\n",
       "457  tanf-tanD  457000  1.321527  5727.381304  5012.213186\n",
       "458  tanf-tanD  458000  1.301374  5739.947456  5023.170582\n",
       "\n",
       "[459 rows x 5 columns]"
      ]
     },
     "execution_count": 62,
     "metadata": {},
     "output_type": "execute_result"
    }
   ],
   "source": [
    "tanfD2"
   ]
  },
  {
   "cell_type": "code",
   "execution_count": 38,
   "id": "dd44ecad",
   "metadata": {},
   "outputs": [],
   "source": [
    "m = min([len(dt['progress-tf1']), len(dt['progress-tf3']), len(dt['progress-tf2'])])\n",
    "tanfD2 = dt['progress-tf1'].truncate(after=(m-1))\n",
    "tanfD1 = dt['progress-tf2'].truncate(after=(m-1))\n",
    "tanh = dt['progress-tf3'].truncate(after=(m-1))"
   ]
  },
  {
   "cell_type": "code",
   "execution_count": 61,
   "id": "81432876",
   "metadata": {},
   "outputs": [
    {
     "data": {
      "image/png": "[encoded data removed]",
      "text/plain": [
       "<Figure size 432x288 with 1 Axes>"
      ]
     },
     "metadata": {
      "needs_background": "light"
     },
     "output_type": "display_data"
    }
   ],
   "source": [
    "true_der = tanfD1[3] - tanh[3]\n",
    "tan_der = tanfD2[3] - tanh[3]\n",
    "plt.plot(true_der, label = \"True Der\")\n",
    "plt.plot(tan_der, label = \"Tan Der\")\n",
    "plt.legend()\n",
    "plt.show()"
   ]
  },
  {
   "cell_type": "code",
   "execution_count": 63,
   "id": "baea30a7",
   "metadata": {},
   "outputs": [
    {
     "data": {
      "image/png": "[encoded data removed]",
      "text/plain": [
       "<Figure size 432x288 with 1 Axes>"
      ]
     },
     "metadata": {
      "needs_background": "light"
     },
     "output_type": "display_data"
    }
   ],
   "source": [
    "plt.plot(tanfD1[2], label = \"True Der\")\n",
    "plt.plot(tanfD2[2], label = \"Tan Der\")\n",
    "plt.plot(tanh[2], label = \"Tanh\")\n",
    "plt.legend()\n",
    "plt.show()"
   ]
  },
  {
   "cell_type": "code",
   "execution_count": 65,
   "id": "1f1efd79",
   "metadata": {},
   "outputs": [
    {
     "data": {
      "text/plain": [
       "0       0.001376\n",
       "1       0.206310\n",
       "2       0.304920\n",
       "3       0.428316\n",
       "4       0.525915\n",
       "         ...    \n",
       "454    18.450836\n",
       "455    18.424179\n",
       "456    18.313001\n",
       "457    18.308486\n",
       "458    18.367001\n",
       "Name: 4, Length: 459, dtype: float64"
      ]
     },
     "execution_count": 65,
     "metadata": {},
     "output_type": "execute_result"
    }
   ],
   "source": [
    "tanfD1[4] - tanh[4]"
   ]
  },
  {
   "cell_type": "code",
   "execution_count": null,
   "id": "814abc03",
   "metadata": {},
   "outputs": [],
   "source": [
    "tr"
   ]
  }
 ],
 "metadata": {
  "kernelspec": {
   "display_name": "Python 3 (ipykernel)",
   "language": "python",
   "name": "python3"
  },
  "language_info": {
   "codemirror_mode": {
    "name": "ipython",
    "version": 3
   },
   "file_extension": ".py",
   "mimetype": "text/x-python",
   "name": "python",
   "nbconvert_exporter": "python",
   "pygments_lexer": "ipython3",
   "version": "3.10.5"
  }
 },
 "nbformat": 4,
 "nbformat_minor": 5
}
