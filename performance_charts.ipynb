{
 "cells": [
  {
   "cell_type": "code",
   "execution_count": 20,
   "id": "f97583e3",
   "metadata": {},
   "outputs": [],
   "source": [
    "import pandas as pd\n",
    "import matplotlib.pyplot as plt\n",
    "import os"
   ]
  },
  {
   "cell_type": "code",
   "execution_count": 7,
   "id": "75d72bb0",
   "metadata": {},
   "outputs": [],
   "source": [
    "DATA_DIR = 'data'\n",
    "\n",
    "def get_data(folder):\n",
    "    data = {}\n",
    "    for filename in os.listdir(folder):\n",
    "        if filename.endswith(\".csv\"):\n",
    "            df = pd.read_csv(folder + \"/\" + filename)\n",
    "            data[os.path.splitext(filename)[0]] = df\n",
    "            continue\n",
    "        else:\n",
    "            continue\n",
    "    return data"
   ]
  },
  {
   "cell_type": "code",
   "execution_count": 8,
   "id": "90f664a0",
   "metadata": {},
   "outputs": [],
   "source": [
    "d = get_data(DATA_DIR)"
   ]
  },
  {
   "cell_type": "code",
   "execution_count": null,
   "id": "1090ec4d",
   "metadata": {
    "scrolled": false
   },
   "outputs": [],
   "source": [
    "for i, key in enumerate(d):\n",
    "    data = d[key]['Function']\n",
    "    vals = d[key]['Relative Time']\n",
    "    colors = [\"red\" if i == 'tanh' else \"green\" if i == 'tanf' else \"blue\" for i in data]\n",
    "    plt.xticks(rotation='vertical')\n",
    "    plt.bar(data, vals, color=colors)\n",
    "    plt.show()"
   ]
  },
  {
   "cell_type": "code",
   "execution_count": null,
   "id": "38272bff",
   "metadata": {},
   "outputs": [],
   "source": []
  }
 ],
 "metadata": {
  "kernelspec": {
   "display_name": "Python 3 (ipykernel)",
   "language": "python",
   "name": "python3"
  },
  "language_info": {
   "codemirror_mode": {
    "name": "ipython",
    "version": 3
   },
   "file_extension": ".py",
   "mimetype": "text/x-python",
   "name": "python",
   "nbconvert_exporter": "python",
   "pygments_lexer": "ipython3",
   "version": "3.10.5"
  }
 },
 "nbformat": 4,
 "nbformat_minor": 5
}
